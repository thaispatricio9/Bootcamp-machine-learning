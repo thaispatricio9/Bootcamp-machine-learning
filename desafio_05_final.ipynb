{
  "nbformat": 4,
  "nbformat_minor": 0,
  "metadata": {
    "colab": {
      "name": "desafio_05_final.ipynb",
      "provenance": [],
      "authorship_tag": "ABX9TyOnObjkBryy1bN6lm61KV5D",
      "include_colab_link": true
    },
    "kernelspec": {
      "name": "python3",
      "display_name": "Python 3"
    }
  },
  "cells": [
    {
      "cell_type": "markdown",
      "metadata": {
        "id": "view-in-github",
        "colab_type": "text"
      },
      "source": [
        "<a href=\"https://colab.research.google.com/github/thaispatricio9/Bootcamp-machine-learning/blob/main/desafio_05_final.ipynb\" target=\"_parent\"><img src=\"https://colab.research.google.com/assets/colab-badge.svg\" alt=\"Open In Colab\"/></a>"
      ]
    },
    {
      "cell_type": "markdown",
      "metadata": {
        "id": "Fzy8dJDC6Xzt"
      },
      "source": [
        "# Desafio Final"
      ]
    },
    {
      "cell_type": "code",
      "metadata": {
        "id": "prlYVAhg2aVJ"
      },
      "source": [
        "import pandas as pd\n",
        "import numpy as np\n",
        "import requests\n",
        "from sklearn.preprocessing import StandardScaler\n",
        "from sklearn.decomposition import PCA\n",
        "from sklearn.cluster import KMeans\n",
        "from sklearn.model_selection import train_test_split\n",
        "from sklearn.tree import DecisionTreeClassifier\n",
        "from sklearn.linear_model import LogisticRegression\n",
        "\n",
        "random_state = 42\n",
        "\n",
        "scaler = StandardScaler()\n",
        "pca = PCA(n_components=7)\n",
        "kmeans = KMeans(n_clusters=3,random_state=random_state)\n",
        "dtc = DecisionTreeClassifier(random_state=random_state)\n",
        "lr = LogisticRegression(random_state=random_state)"
      ],
      "execution_count": 1,
      "outputs": []
    },
    {
      "cell_type": "code",
      "metadata": {
        "colab": {
          "base_uri": "https://localhost:8080/",
          "height": 297
        },
        "id": "V6ldd3WR3Fv-",
        "outputId": "0cf3d9ee-0b38-473c-ad77-2d5c46f15fea"
      },
      "source": [
        "url ='https://drive.google.com/uc?export=download&id=1Gjumb68_WrOOJr-7YUKH3yFk6rNJrHH2'\n",
        "df = pd.read_csv(url)\n",
        "df_original = df.copy()\n",
        "df.describe()"
      ],
      "execution_count": 2,
      "outputs": [
        {
          "output_type": "execute_result",
          "data": {
            "text/html": [
              "<div>\n",
              "<style scoped>\n",
              "    .dataframe tbody tr th:only-of-type {\n",
              "        vertical-align: middle;\n",
              "    }\n",
              "\n",
              "    .dataframe tbody tr th {\n",
              "        vertical-align: top;\n",
              "    }\n",
              "\n",
              "    .dataframe thead th {\n",
              "        text-align: right;\n",
              "    }\n",
              "</style>\n",
              "<table border=\"1\" class=\"dataframe\">\n",
              "  <thead>\n",
              "    <tr style=\"text-align: right;\">\n",
              "      <th></th>\n",
              "      <th>mpg</th>\n",
              "      <th>cylinders</th>\n",
              "      <th>hp</th>\n",
              "      <th>time-to-60</th>\n",
              "      <th>year</th>\n",
              "    </tr>\n",
              "  </thead>\n",
              "  <tbody>\n",
              "    <tr>\n",
              "      <th>count</th>\n",
              "      <td>261.000000</td>\n",
              "      <td>261.000000</td>\n",
              "      <td>261.000000</td>\n",
              "      <td>261.000000</td>\n",
              "      <td>261.000000</td>\n",
              "    </tr>\n",
              "    <tr>\n",
              "      <th>mean</th>\n",
              "      <td>23.144828</td>\n",
              "      <td>5.590038</td>\n",
              "      <td>106.360153</td>\n",
              "      <td>15.547893</td>\n",
              "      <td>1976.819923</td>\n",
              "    </tr>\n",
              "    <tr>\n",
              "      <th>std</th>\n",
              "      <td>7.823570</td>\n",
              "      <td>1.733310</td>\n",
              "      <td>40.499959</td>\n",
              "      <td>2.910625</td>\n",
              "      <td>3.637696</td>\n",
              "    </tr>\n",
              "    <tr>\n",
              "      <th>min</th>\n",
              "      <td>10.000000</td>\n",
              "      <td>3.000000</td>\n",
              "      <td>46.000000</td>\n",
              "      <td>8.000000</td>\n",
              "      <td>1971.000000</td>\n",
              "    </tr>\n",
              "    <tr>\n",
              "      <th>25%</th>\n",
              "      <td>16.900000</td>\n",
              "      <td>4.000000</td>\n",
              "      <td>75.000000</td>\n",
              "      <td>14.000000</td>\n",
              "      <td>1974.000000</td>\n",
              "    </tr>\n",
              "    <tr>\n",
              "      <th>50%</th>\n",
              "      <td>22.000000</td>\n",
              "      <td>6.000000</td>\n",
              "      <td>95.000000</td>\n",
              "      <td>16.000000</td>\n",
              "      <td>1977.000000</td>\n",
              "    </tr>\n",
              "    <tr>\n",
              "      <th>75%</th>\n",
              "      <td>28.800000</td>\n",
              "      <td>8.000000</td>\n",
              "      <td>138.000000</td>\n",
              "      <td>17.000000</td>\n",
              "      <td>1980.000000</td>\n",
              "    </tr>\n",
              "    <tr>\n",
              "      <th>max</th>\n",
              "      <td>46.600000</td>\n",
              "      <td>8.000000</td>\n",
              "      <td>230.000000</td>\n",
              "      <td>25.000000</td>\n",
              "      <td>1983.000000</td>\n",
              "    </tr>\n",
              "  </tbody>\n",
              "</table>\n",
              "</div>"
            ],
            "text/plain": [
              "              mpg   cylinders          hp  time-to-60         year\n",
              "count  261.000000  261.000000  261.000000  261.000000   261.000000\n",
              "mean    23.144828    5.590038  106.360153   15.547893  1976.819923\n",
              "std      7.823570    1.733310   40.499959    2.910625     3.637696\n",
              "min     10.000000    3.000000   46.000000    8.000000  1971.000000\n",
              "25%     16.900000    4.000000   75.000000   14.000000  1974.000000\n",
              "50%     22.000000    6.000000   95.000000   16.000000  1977.000000\n",
              "75%     28.800000    8.000000  138.000000   17.000000  1980.000000\n",
              "max     46.600000    8.000000  230.000000   25.000000  1983.000000"
            ]
          },
          "metadata": {
            "tags": []
          },
          "execution_count": 2
        }
      ]
    },
    {
      "cell_type": "code",
      "metadata": {
        "colab": {
          "base_uri": "https://localhost:8080/"
        },
        "id": "7bzyRTyo3dKv",
        "outputId": "5972f459-d5ad-440a-8751-c25d17d891d9"
      },
      "source": [
        "df.info()"
      ],
      "execution_count": 3,
      "outputs": [
        {
          "output_type": "stream",
          "text": [
            "<class 'pandas.core.frame.DataFrame'>\n",
            "RangeIndex: 261 entries, 0 to 260\n",
            "Data columns (total 8 columns):\n",
            " #   Column       Non-Null Count  Dtype  \n",
            "---  ------       --------------  -----  \n",
            " 0   mpg          261 non-null    float64\n",
            " 1   cylinders    261 non-null    int64  \n",
            " 2   cubicinches  261 non-null    object \n",
            " 3   hp           261 non-null    int64  \n",
            " 4   weightlbs    261 non-null    object \n",
            " 5   time-to-60   261 non-null    int64  \n",
            " 6   year         261 non-null    int64  \n",
            " 7   brand        261 non-null    object \n",
            "dtypes: float64(1), int64(4), object(3)\n",
            "memory usage: 16.4+ KB\n"
          ],
          "name": "stdout"
        }
      ]
    },
    {
      "cell_type": "code",
      "metadata": {
        "colab": {
          "base_uri": "https://localhost:8080/"
        },
        "id": "R0PN4QsA3sKA",
        "outputId": "02333a2d-203e-4df0-e6d4-13712b9ca6dd"
      },
      "source": [
        "cols = ['cubicinches', 'weightlbs']\n",
        "#errors = coerce: Análise inválida será definida como NaN.\n",
        "df[cols] = df[cols].apply(pd.to_numeric, errors='coerce', axis=1)\n",
        "df.info()"
      ],
      "execution_count": 4,
      "outputs": [
        {
          "output_type": "stream",
          "text": [
            "<class 'pandas.core.frame.DataFrame'>\n",
            "RangeIndex: 261 entries, 0 to 260\n",
            "Data columns (total 8 columns):\n",
            " #   Column       Non-Null Count  Dtype  \n",
            "---  ------       --------------  -----  \n",
            " 0   mpg          261 non-null    float64\n",
            " 1   cylinders    261 non-null    int64  \n",
            " 2   cubicinches  259 non-null    float64\n",
            " 3   hp           261 non-null    int64  \n",
            " 4   weightlbs    258 non-null    float64\n",
            " 5   time-to-60   261 non-null    int64  \n",
            " 6   year         261 non-null    int64  \n",
            " 7   brand        261 non-null    object \n",
            "dtypes: float64(3), int64(4), object(1)\n",
            "memory usage: 16.4+ KB\n"
          ],
          "name": "stdout"
        }
      ]
    },
    {
      "cell_type": "code",
      "metadata": {
        "colab": {
          "base_uri": "https://localhost:8080/"
        },
        "id": "cjjI92Rt6uVJ",
        "outputId": "15723f32-8d63-410e-bb0d-2cb4012370ba"
      },
      "source": [
        "# Indique quais eram os índices dos valores presentes no dataset que “forçaram” o pandas a compreender a variável “cubicinches” como string.\n",
        "\n",
        "df_original[df_original.cubicinches==' '].index"
      ],
      "execution_count": 5,
      "outputs": [
        {
          "output_type": "execute_result",
          "data": {
            "text/plain": [
              "Int64Index([40, 180], dtype='int64')"
            ]
          },
          "metadata": {
            "tags": []
          },
          "execution_count": 5
        }
      ]
    },
    {
      "cell_type": "code",
      "metadata": {
        "colab": {
          "base_uri": "https://localhost:8080/"
        },
        "id": "sBD8yz2Q8xIp",
        "outputId": "02e0d22c-405e-4b00-b880-1fa9ce9d7b8c"
      },
      "source": [
        "# Após a transformação das variáveis “string” para os valores numéricos, quantos valores nulos passaram a existir no dataset?\n",
        "df.isnull().sum()"
      ],
      "execution_count": 6,
      "outputs": [
        {
          "output_type": "execute_result",
          "data": {
            "text/plain": [
              "mpg            0\n",
              "cylinders      0\n",
              "cubicinches    2\n",
              "hp             0\n",
              "weightlbs      3\n",
              "time-to-60     0\n",
              "year           0\n",
              "brand          0\n",
              "dtype: int64"
            ]
          },
          "metadata": {
            "tags": []
          },
          "execution_count": 6
        }
      ]
    },
    {
      "cell_type": "code",
      "metadata": {
        "colab": {
          "base_uri": "https://localhost:8080/",
          "height": 297
        },
        "id": "Z45e3btC89A6",
        "outputId": "cde2578f-7724-45d6-847d-ec382faae31c"
      },
      "source": [
        "df['cubicinches'].fillna(df.cubicinches.mean(), inplace=True)\n",
        "df['weightlbs'].fillna(df.weightlbs.mean(), inplace=True)\n",
        "\n",
        "df.describe()"
      ],
      "execution_count": 8,
      "outputs": [
        {
          "output_type": "execute_result",
          "data": {
            "text/html": [
              "<div>\n",
              "<style scoped>\n",
              "    .dataframe tbody tr th:only-of-type {\n",
              "        vertical-align: middle;\n",
              "    }\n",
              "\n",
              "    .dataframe tbody tr th {\n",
              "        vertical-align: top;\n",
              "    }\n",
              "\n",
              "    .dataframe thead th {\n",
              "        text-align: right;\n",
              "    }\n",
              "</style>\n",
              "<table border=\"1\" class=\"dataframe\">\n",
              "  <thead>\n",
              "    <tr style=\"text-align: right;\">\n",
              "      <th></th>\n",
              "      <th>mpg</th>\n",
              "      <th>cylinders</th>\n",
              "      <th>cubicinches</th>\n",
              "      <th>hp</th>\n",
              "      <th>weightlbs</th>\n",
              "      <th>time-to-60</th>\n",
              "      <th>year</th>\n",
              "    </tr>\n",
              "  </thead>\n",
              "  <tbody>\n",
              "    <tr>\n",
              "      <th>count</th>\n",
              "      <td>261.000000</td>\n",
              "      <td>261.000000</td>\n",
              "      <td>261.000000</td>\n",
              "      <td>261.000000</td>\n",
              "      <td>261.000000</td>\n",
              "      <td>261.000000</td>\n",
              "      <td>261.000000</td>\n",
              "    </tr>\n",
              "    <tr>\n",
              "      <th>mean</th>\n",
              "      <td>23.144828</td>\n",
              "      <td>5.590038</td>\n",
              "      <td>200.918919</td>\n",
              "      <td>106.360153</td>\n",
              "      <td>3009.833333</td>\n",
              "      <td>15.547893</td>\n",
              "      <td>1976.819923</td>\n",
              "    </tr>\n",
              "    <tr>\n",
              "      <th>std</th>\n",
              "      <td>7.823570</td>\n",
              "      <td>1.733310</td>\n",
              "      <td>108.837269</td>\n",
              "      <td>40.499959</td>\n",
              "      <td>849.097575</td>\n",
              "      <td>2.910625</td>\n",
              "      <td>3.637696</td>\n",
              "    </tr>\n",
              "    <tr>\n",
              "      <th>min</th>\n",
              "      <td>10.000000</td>\n",
              "      <td>3.000000</td>\n",
              "      <td>68.000000</td>\n",
              "      <td>46.000000</td>\n",
              "      <td>1613.000000</td>\n",
              "      <td>8.000000</td>\n",
              "      <td>1971.000000</td>\n",
              "    </tr>\n",
              "    <tr>\n",
              "      <th>25%</th>\n",
              "      <td>16.900000</td>\n",
              "      <td>4.000000</td>\n",
              "      <td>101.000000</td>\n",
              "      <td>75.000000</td>\n",
              "      <td>2254.000000</td>\n",
              "      <td>14.000000</td>\n",
              "      <td>1974.000000</td>\n",
              "    </tr>\n",
              "    <tr>\n",
              "      <th>50%</th>\n",
              "      <td>22.000000</td>\n",
              "      <td>6.000000</td>\n",
              "      <td>156.000000</td>\n",
              "      <td>95.000000</td>\n",
              "      <td>2904.000000</td>\n",
              "      <td>16.000000</td>\n",
              "      <td>1977.000000</td>\n",
              "    </tr>\n",
              "    <tr>\n",
              "      <th>75%</th>\n",
              "      <td>28.800000</td>\n",
              "      <td>8.000000</td>\n",
              "      <td>302.000000</td>\n",
              "      <td>138.000000</td>\n",
              "      <td>3664.000000</td>\n",
              "      <td>17.000000</td>\n",
              "      <td>1980.000000</td>\n",
              "    </tr>\n",
              "    <tr>\n",
              "      <th>max</th>\n",
              "      <td>46.600000</td>\n",
              "      <td>8.000000</td>\n",
              "      <td>455.000000</td>\n",
              "      <td>230.000000</td>\n",
              "      <td>4997.000000</td>\n",
              "      <td>25.000000</td>\n",
              "      <td>1983.000000</td>\n",
              "    </tr>\n",
              "  </tbody>\n",
              "</table>\n",
              "</div>"
            ],
            "text/plain": [
              "              mpg   cylinders  ...  time-to-60         year\n",
              "count  261.000000  261.000000  ...  261.000000   261.000000\n",
              "mean    23.144828    5.590038  ...   15.547893  1976.819923\n",
              "std      7.823570    1.733310  ...    2.910625     3.637696\n",
              "min     10.000000    3.000000  ...    8.000000  1971.000000\n",
              "25%     16.900000    4.000000  ...   14.000000  1974.000000\n",
              "50%     22.000000    6.000000  ...   16.000000  1977.000000\n",
              "75%     28.800000    8.000000  ...   17.000000  1980.000000\n",
              "max     46.600000    8.000000  ...   25.000000  1983.000000\n",
              "\n",
              "[8 rows x 7 columns]"
            ]
          },
          "metadata": {
            "tags": []
          },
          "execution_count": 8
        }
      ]
    },
    {
      "cell_type": "code",
      "metadata": {
        "colab": {
          "base_uri": "https://localhost:8080/",
          "height": 266
        },
        "id": "GDrl2vhU9p6M",
        "outputId": "c92011cc-285c-4967-e1cb-3c4af4592f99"
      },
      "source": [
        "df.corr()"
      ],
      "execution_count": 9,
      "outputs": [
        {
          "output_type": "execute_result",
          "data": {
            "text/html": [
              "<div>\n",
              "<style scoped>\n",
              "    .dataframe tbody tr th:only-of-type {\n",
              "        vertical-align: middle;\n",
              "    }\n",
              "\n",
              "    .dataframe tbody tr th {\n",
              "        vertical-align: top;\n",
              "    }\n",
              "\n",
              "    .dataframe thead th {\n",
              "        text-align: right;\n",
              "    }\n",
              "</style>\n",
              "<table border=\"1\" class=\"dataframe\">\n",
              "  <thead>\n",
              "    <tr style=\"text-align: right;\">\n",
              "      <th></th>\n",
              "      <th>mpg</th>\n",
              "      <th>cylinders</th>\n",
              "      <th>cubicinches</th>\n",
              "      <th>hp</th>\n",
              "      <th>weightlbs</th>\n",
              "      <th>time-to-60</th>\n",
              "      <th>year</th>\n",
              "    </tr>\n",
              "  </thead>\n",
              "  <tbody>\n",
              "    <tr>\n",
              "      <th>mpg</th>\n",
              "      <td>1.000000</td>\n",
              "      <td>-0.776710</td>\n",
              "      <td>-0.802379</td>\n",
              "      <td>-0.774905</td>\n",
              "      <td>-0.823800</td>\n",
              "      <td>0.509070</td>\n",
              "      <td>0.550441</td>\n",
              "    </tr>\n",
              "    <tr>\n",
              "      <th>cylinders</th>\n",
              "      <td>-0.776710</td>\n",
              "      <td>1.000000</td>\n",
              "      <td>0.951246</td>\n",
              "      <td>0.845155</td>\n",
              "      <td>0.894447</td>\n",
              "      <td>-0.578161</td>\n",
              "      <td>-0.322239</td>\n",
              "    </tr>\n",
              "    <tr>\n",
              "      <th>cubicinches</th>\n",
              "      <td>-0.802379</td>\n",
              "      <td>0.951246</td>\n",
              "      <td>1.000000</td>\n",
              "      <td>0.906413</td>\n",
              "      <td>0.925288</td>\n",
              "      <td>-0.610679</td>\n",
              "      <td>-0.349743</td>\n",
              "    </tr>\n",
              "    <tr>\n",
              "      <th>hp</th>\n",
              "      <td>-0.774905</td>\n",
              "      <td>0.845155</td>\n",
              "      <td>0.906413</td>\n",
              "      <td>1.000000</td>\n",
              "      <td>0.857125</td>\n",
              "      <td>-0.744873</td>\n",
              "      <td>-0.383869</td>\n",
              "    </tr>\n",
              "    <tr>\n",
              "      <th>weightlbs</th>\n",
              "      <td>-0.823800</td>\n",
              "      <td>0.894447</td>\n",
              "      <td>0.925288</td>\n",
              "      <td>0.857125</td>\n",
              "      <td>1.000000</td>\n",
              "      <td>-0.477240</td>\n",
              "      <td>-0.278683</td>\n",
              "    </tr>\n",
              "    <tr>\n",
              "      <th>time-to-60</th>\n",
              "      <td>0.509070</td>\n",
              "      <td>-0.578161</td>\n",
              "      <td>-0.610679</td>\n",
              "      <td>-0.744873</td>\n",
              "      <td>-0.477240</td>\n",
              "      <td>1.000000</td>\n",
              "      <td>0.312311</td>\n",
              "    </tr>\n",
              "    <tr>\n",
              "      <th>year</th>\n",
              "      <td>0.550441</td>\n",
              "      <td>-0.322239</td>\n",
              "      <td>-0.349743</td>\n",
              "      <td>-0.383869</td>\n",
              "      <td>-0.278683</td>\n",
              "      <td>0.312311</td>\n",
              "      <td>1.000000</td>\n",
              "    </tr>\n",
              "  </tbody>\n",
              "</table>\n",
              "</div>"
            ],
            "text/plain": [
              "                  mpg  cylinders  cubicinches  ...  weightlbs  time-to-60      year\n",
              "mpg          1.000000  -0.776710    -0.802379  ...  -0.823800    0.509070  0.550441\n",
              "cylinders   -0.776710   1.000000     0.951246  ...   0.894447   -0.578161 -0.322239\n",
              "cubicinches -0.802379   0.951246     1.000000  ...   0.925288   -0.610679 -0.349743\n",
              "hp          -0.774905   0.845155     0.906413  ...   0.857125   -0.744873 -0.383869\n",
              "weightlbs   -0.823800   0.894447     0.925288  ...   1.000000   -0.477240 -0.278683\n",
              "time-to-60   0.509070  -0.578161    -0.610679  ...  -0.477240    1.000000  0.312311\n",
              "year         0.550441  -0.322239    -0.349743  ...  -0.278683    0.312311  1.000000\n",
              "\n",
              "[7 rows x 7 columns]"
            ]
          },
          "metadata": {
            "tags": []
          },
          "execution_count": 9
        }
      ]
    },
    {
      "cell_type": "code",
      "metadata": {
        "colab": {
          "base_uri": "https://localhost:8080/",
          "height": 282
        },
        "id": "M4GIlWog-iWS",
        "outputId": "0a0c5bdc-5082-4ea5-8ae7-22aa323cd302"
      },
      "source": [
        "df['hp'].plot.box()"
      ],
      "execution_count": 10,
      "outputs": [
        {
          "output_type": "execute_result",
          "data": {
            "text/plain": [
              "<matplotlib.axes._subplots.AxesSubplot at 0x7f27f62941d0>"
            ]
          },
          "metadata": {
            "tags": []
          },
          "execution_count": 10
        },
        {
          "output_type": "display_data",
          "data": {
            "image/png": "[encoded data removed]",
            "text/plain": [
              "<Figure size 432x288 with 1 Axes>"
            ]
          },
          "metadata": {
            "tags": [],
            "needs_background": "light"
          }
        }
      ]
    },
    {
      "cell_type": "code",
      "metadata": {
        "colab": {
          "base_uri": "https://localhost:8080/"
        },
        "id": "d3MX8Vle5HS4",
        "outputId": "ae88fa5c-a8b0-4100-88c9-cf9a2aa4439c"
      },
      "source": [
        "print('Antes: ',df.hp.max())\n",
        "df.hp = scaler.fit_transform(df.hp.values.reshape(-1,1))\n",
        "print('Depois: ',df.hp.max())"
      ],
      "execution_count": 11,
      "outputs": [
        {
          "output_type": "stream",
          "text": [
            "Antes:  230\n",
            "Depois:  3.05870398977614\n"
          ],
          "name": "stdout"
        }
      ]
    },
    {
      "cell_type": "code",
      "metadata": {
        "colab": {
          "base_uri": "https://localhost:8080/"
        },
        "id": "KupuPjWv5JSL",
        "outputId": "5d0afd53-555d-4881-9ea7-496b8e612818"
      },
      "source": [
        "pca.fit(df[df.columns[:-1]])\n",
        "pca.explained_variance_\n",
        "pca.components_"
      ],
      "execution_count": 12,
      "outputs": [
        {
          "output_type": "execute_result",
          "data": {
            "text/plain": [
              "array([[-7.54290397e-03,  1.81683306e-03,  1.18045838e-01,\n",
              "         1.00629347e-03,  9.92975269e-01, -1.63313644e-03,\n",
              "        -1.19153729e-03],\n",
              "       [-1.96355544e-02,  1.35560601e-02,  9.91942502e-01,\n",
              "         7.19468026e-03, -1.18182122e-01, -3.15535453e-02,\n",
              "        -2.15950892e-02],\n",
              "       [ 8.36629255e-01, -1.31787086e-03,  3.16138097e-02,\n",
              "        -1.77279432e-02,  3.40719256e-03,  8.64910315e-02,\n",
              "         5.39670022e-01],\n",
              "       [-5.22848327e-01,  1.29868904e-02,  2.06788708e-03,\n",
              "         4.55282298e-03, -3.50915446e-03, -1.62481900e-01,\n",
              "         8.36673940e-01],\n",
              "       [-1.61776932e-01, -1.85589127e-03,  3.02877827e-02,\n",
              "        -1.20905261e-01, -2.99365701e-03,  9.74879806e-01,\n",
              "         8.88242682e-02],\n",
              "       [-8.14832542e-03, -9.82250976e-01,  1.27806847e-02,\n",
              "         1.85634032e-01,  7.30148101e-05,  1.82502615e-02,\n",
              "         1.26573238e-02],\n",
              "       [-7.03686992e-04,  1.86606838e-01, -5.55415524e-03,\n",
              "         9.74953404e-01, -4.59576621e-04,  1.19987220e-01,\n",
              "         1.46717486e-02]])"
            ]
          },
          "metadata": {
            "tags": []
          },
          "execution_count": 12
        }
      ]
    },
    {
      "cell_type": "code",
      "metadata": {
        "colab": {
          "base_uri": "https://localhost:8080/"
        },
        "id": "FKU7690z5Les",
        "outputId": "7f83e05b-10af-4fcf-b719-7804b28f2c1f"
      },
      "source": [
        "k = kmeans.fit(pca.components_[:3])\n",
        "k.cluster_centers_"
      ],
      "execution_count": 13,
      "outputs": [
        {
          "output_type": "execute_result",
          "data": {
            "text/plain": [
              "array([[-0.01963555,  0.01355606,  0.9919425 ,  0.00719468, -0.11818212,\n",
              "        -0.03155355, -0.02159509],\n",
              "       [-0.0075429 ,  0.00181683,  0.11804584,  0.00100629,  0.99297527,\n",
              "        -0.00163314, -0.00119154],\n",
              "       [ 0.83662926, -0.00131787,  0.03161381, -0.01772794,  0.00340719,\n",
              "         0.08649103,  0.53967002]])"
            ]
          },
          "metadata": {
            "tags": []
          },
          "execution_count": 13
        }
      ]
    },
    {
      "cell_type": "code",
      "metadata": {
        "id": "BAnX6IYQ5Qrz"
      },
      "source": [
        "df['eficientes'] = 0\n",
        "df.loc[df.mpg>25,'eficientes']=1\n",
        "x = df[['cylinders' ,'cubicinches' ,'hp' ,'weightlbs','time-to-60']]\n",
        "x = scaler.transform(x)\n",
        "y =  df['eficientes']\n",
        "xtrain, xtest, ytrain, ytest = train_test_split(x, y, test_size=0.3,random_state=random_state)"
      ],
      "execution_count": 14,
      "outputs": []
    },
    {
      "cell_type": "code",
      "metadata": {
        "colab": {
          "base_uri": "https://localhost:8080/"
        },
        "id": "FD0YWTI15Ta1",
        "outputId": "67c20fe6-8281-4625-a026-e7c09e5e6f46"
      },
      "source": [
        "from sklearn.metrics import accuracy_score\n",
        "dtc = DecisionTreeClassifier(random_state=random_state)\n",
        "dtc = dtc.fit(xtrain,ytrain)\n",
        "predicts  = dtc.predict(xtest)\n",
        "accuracy_score(ytest,predicts)"
      ],
      "execution_count": 15,
      "outputs": [
        {
          "output_type": "execute_result",
          "data": {
            "text/plain": [
              "0.8734177215189873"
            ]
          },
          "metadata": {
            "tags": []
          },
          "execution_count": 15
        }
      ]
    },
    {
      "cell_type": "code",
      "metadata": {
        "colab": {
          "base_uri": "https://localhost:8080/"
        },
        "id": "MitbXRRk5U7N",
        "outputId": "6548b0b1-b651-40ea-c60f-536cc2ee06f0"
      },
      "source": [
        "from sklearn.metrics import confusion_matrix\n",
        "verdadeiro_negativo, falso_positivo, falso_negativo, verdadeiro_positivo = confusion_matrix(ytest,predicts).ravel()\n",
        "print('verdadeiro_negativo:\\t',verdadeiro_negativo)\n",
        "print('falso_positivo:\\t\\t',falso_positivo)\n",
        "print('falso_negativo:\\t\\t',falso_negativo)\n",
        "print('verdadeiro_positivo:\\t',verdadeiro_positivo)"
      ],
      "execution_count": 16,
      "outputs": [
        {
          "output_type": "stream",
          "text": [
            "verdadeiro_negativo:\t 33\n",
            "falso_positivo:\t\t 8\n",
            "falso_negativo:\t\t 2\n",
            "verdadeiro_positivo:\t 36\n"
          ],
          "name": "stdout"
        }
      ]
    },
    {
      "cell_type": "code",
      "metadata": {
        "colab": {
          "base_uri": "https://localhost:8080/"
        },
        "id": "snx76ujd5ZFB",
        "outputId": "cd24565b-787a-4345-8fc6-e81ebb67bdb7"
      },
      "source": [
        "lr = LogisticRegression(random_state=random_state) \n",
        "lr = lr.fit(xtrain,ytrain)\n",
        "predicts  = lr.predict(xtest)\n",
        "accuracy_score(ytest,predicts)"
      ],
      "execution_count": 17,
      "outputs": [
        {
          "output_type": "execute_result",
          "data": {
            "text/plain": [
              "0.8227848101265823"
            ]
          },
          "metadata": {
            "tags": []
          },
          "execution_count": 17
        }
      ]
    }
  ]
}